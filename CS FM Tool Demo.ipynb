{
 "cells": [
  {
   "cell_type": "code",
   "execution_count": 1,
   "metadata": {},
   "outputs": [],
   "source": [
    "import cs_fm_tool\n",
    "import config"
   ]
  },
  {
   "cell_type": "code",
   "execution_count": 2,
   "metadata": {},
   "outputs": [
    {
     "name": "stdout",
     "output_type": "stream",
     "text": [
      "✓ TAZ / land use / parking / zonal variables read. Time elapsed: 0.19 seconds\n",
      "✓ skims read. Time elapsed: 23.13 seconds\n",
      "✓ trip table read. Time elapsed: 31.25 seconds\n",
      "✓ zonal variable tables generated. Time elapsed: 31.69 seconds\n",
      "Running for all purposes...\n",
      "Mode choice for HBW started.\n",
      "✓ Parameter table for HBW generated. Time elapsed: 31.88 seconds\n",
      "✓ Trips for 0_PK calculated. Time elapsed: 45.47 seconds\n",
      "✓ Trips for 1_PK calculated. Time elapsed: 58.85 seconds\n",
      "✓ Trips for 0_OP calculated. Time elapsed: 72.44 seconds\n",
      "✓ Trips for 1_OP calculated. Time elapsed: 85.81 seconds\n",
      "Mode choice for HBO started.\n",
      "✓ Parameter table for HBO generated. Time elapsed: 86.26 seconds\n",
      "✓ Trips for 0_PK calculated. Time elapsed: 95.54 seconds\n",
      "✓ Trips for 1_PK calculated. Time elapsed: 104.75 seconds\n",
      "✓ Trips for 0_OP calculated. Time elapsed: 113.96 seconds\n",
      "✓ Trips for 1_OP calculated. Time elapsed: 124.73 seconds\n",
      "Mode choice for NHB started.\n",
      "✓ Parameter table for NHB generated. Time elapsed: 125.09 seconds\n",
      "✓ Trips for 0_PK calculated. Time elapsed: 136.16 seconds\n",
      "✓ Trips for 1_PK calculated. Time elapsed: 146.98 seconds\n",
      "✓ Trips for 0_OP calculated. Time elapsed: 158.04 seconds\n",
      "✓ Trips for 1_OP calculated. Time elapsed: 170.60 seconds\n",
      "Mode choice for HBSc1 started.\n",
      "✓ Parameter table for HBSc1 generated. Time elapsed: 170.97 seconds\n",
      "✓ Trips for 0_PK calculated. Time elapsed: 178.51 seconds\n",
      "✓ Trips for 1_PK calculated. Time elapsed: 186.58 seconds\n",
      "✓ Trips for 0_OP calculated. Time elapsed: 194.01 seconds\n",
      "✓ Trips for 1_OP calculated. Time elapsed: 201.42 seconds\n",
      "Mode choice for HBSc2 started.\n",
      "✓ Parameter table for HBSc2 generated. Time elapsed: 201.70 seconds\n",
      "✓ Trips for 0_PK calculated. Time elapsed: 208.98 seconds\n",
      "✓ Trips for 1_PK calculated. Time elapsed: 216.17 seconds\n",
      "✓ Trips for 0_OP calculated. Time elapsed: 223.95 seconds\n",
      "✓ Trips for 1_OP calculated. Time elapsed: 231.69 seconds\n",
      "Mode choice for HBSc3 started.\n",
      "✓ Parameter table for HBSc3 generated. Time elapsed: 232.00 seconds\n",
      "✓ Trips for 0_PK calculated. Time elapsed: 240.85 seconds\n",
      "✓ Trips for 1_PK calculated. Time elapsed: 250.28 seconds\n",
      "✓ Trips for 0_OP calculated. Time elapsed: 259.62 seconds\n",
      "✓ Trips for 1_OP calculated. Time elapsed: 269.04 seconds\n",
      "Running summaries for neighborhood vmt\n"
     ]
    },
    {
     "ename": "FileNotFoundError",
     "evalue": "[Errno 2] No such file or directory: 'C:\\\\Projects\\\\180021-CFB\\\\CS_FM_Tool\\\\..\\\\output\\\\vmt_by_neighborhood_by_purpose.csv'",
     "output_type": "error",
     "traceback": [
      "\u001b[1;31m---------------------------------------------------------------------------\u001b[0m",
      "\u001b[1;31mFileNotFoundError\u001b[0m                         Traceback (most recent call last)",
      "\u001b[1;32m<ipython-input-2-271b60d29411>\u001b[0m in \u001b[0;36m<module>\u001b[1;34m()\u001b[0m\n\u001b[0;32m      4\u001b[0m \u001b[0mfm\u001b[0m\u001b[1;33m.\u001b[0m\u001b[0msetup\u001b[0m\u001b[1;33m(\u001b[0m\u001b[1;33m)\u001b[0m\u001b[1;33m\u001b[0m\u001b[0m\n\u001b[0;32m      5\u001b[0m \u001b[0mfm\u001b[0m\u001b[1;33m.\u001b[0m\u001b[0mrun\u001b[0m\u001b[1;33m(\u001b[0m\u001b[1;33m)\u001b[0m\u001b[1;33m\u001b[0m\u001b[0m\n\u001b[1;32m----> 6\u001b[1;33m \u001b[0mfm\u001b[0m\u001b[1;33m.\u001b[0m\u001b[0mpost_process\u001b[0m\u001b[1;33m(\u001b[0m\u001b[1;33m)\u001b[0m\u001b[1;33m\u001b[0m\u001b[0m\n\u001b[0m\u001b[0;32m      7\u001b[0m \u001b[0mfm\u001b[0m\u001b[1;33m.\u001b[0m\u001b[0marchive\u001b[0m\u001b[1;33m(\u001b[0m\u001b[1;33m)\u001b[0m\u001b[1;33m\u001b[0m\u001b[0m\n",
      "\u001b[1;32mC:\\Projects\\180021-CFB\\CS_FM_Tool\\cs_fm_tool.py\u001b[0m in \u001b[0;36mpost_process\u001b[1;34m(self)\u001b[0m\n\u001b[0;32m     82\u001b[0m                 \u001b[0mprint\u001b[0m\u001b[1;33m(\u001b[0m\u001b[1;34m'Running summaries for {}'\u001b[0m \u001b[1;33m.\u001b[0m\u001b[0mformat\u001b[0m\u001b[1;33m(\u001b[0m\u001b[0mpm\u001b[0m\u001b[1;33m)\u001b[0m\u001b[1;33m)\u001b[0m\u001b[1;33m\u001b[0m\u001b[0m\n\u001b[0;32m     83\u001b[0m                 \u001b[0mkwargs\u001b[0m \u001b[1;33m=\u001b[0m \u001b[0mpm_def\u001b[0m\u001b[1;33m[\u001b[0m\u001b[1;34m'params'\u001b[0m\u001b[1;33m]\u001b[0m\u001b[1;33m\u001b[0m\u001b[0m\n\u001b[1;32m---> 84\u001b[1;33m                 \u001b[0meval\u001b[0m\u001b[1;33m(\u001b[0m\u001b[1;34m'mc_util.'\u001b[0m \u001b[1;33m+\u001b[0m \u001b[0mpm_def\u001b[0m\u001b[1;33m[\u001b[0m\u001b[1;34m'function'\u001b[0m\u001b[1;33m]\u001b[0m \u001b[1;33m+\u001b[0m \u001b[1;34m'(self.mc, **kwargs)'\u001b[0m\u001b[1;33m)\u001b[0m\u001b[1;33m\u001b[0m\u001b[0m\n\u001b[0m\u001b[0;32m     85\u001b[0m \u001b[1;33m\u001b[0m\u001b[0m\n\u001b[0;32m     86\u001b[0m \u001b[1;33m\u001b[0m\u001b[0m\n",
      "\u001b[1;32mC:\\Projects\\180021-CFB\\CS_FM_Tool\\cs_fm_tool.py\u001b[0m in \u001b[0;36m<module>\u001b[1;34m()\u001b[0m\n",
      "\u001b[1;32mC:\\Projects\\180021-CFB\\CS_FM_Tool\\mode_choice\\mc_util.py\u001b[0m in \u001b[0;36mvmt_by_neighborhood\u001b[1;34m(mc_obj, out_fn, by)\u001b[0m\n\u001b[0;32m    311\u001b[0m             vmt_master_table.groupby(['purpose','BOSTON_NB']).sum().loc[purpose] for purpose in vmt_master_table.purpose.unique()],axis = 1, keys= vmt_master_table.purpose.unique())\n\u001b[0;32m    312\u001b[0m \u001b[1;33m\u001b[0m\u001b[0m\n\u001b[1;32m--> 313\u001b[1;33m         \u001b[0mvmt_summary\u001b[0m\u001b[1;33m.\u001b[0m\u001b[0mto_csv\u001b[0m\u001b[1;33m(\u001b[0m\u001b[0mout_fn\u001b[0m\u001b[1;33m)\u001b[0m\u001b[1;33m\u001b[0m\u001b[0m\n\u001b[0m\u001b[0;32m    314\u001b[0m \u001b[1;33m\u001b[0m\u001b[0m\n\u001b[0;32m    315\u001b[0m \u001b[1;32mdef\u001b[0m \u001b[0mpmt_by_neighborhood\u001b[0m\u001b[1;33m(\u001b[0m\u001b[0mmc_obj\u001b[0m\u001b[1;33m,\u001b[0m \u001b[0mout_fn\u001b[0m \u001b[1;33m=\u001b[0m \u001b[1;32mNone\u001b[0m\u001b[1;33m,\u001b[0m \u001b[0mby\u001b[0m \u001b[1;33m=\u001b[0m \u001b[1;32mNone\u001b[0m\u001b[1;33m)\u001b[0m\u001b[1;33m:\u001b[0m\u001b[1;33m\u001b[0m\u001b[0m\n",
      "\u001b[1;32mC:\\ProgramData\\Anaconda3\\lib\\site-packages\\pandas\\core\\frame.py\u001b[0m in \u001b[0;36mto_csv\u001b[1;34m(self, path_or_buf, sep, na_rep, float_format, columns, header, index, index_label, mode, encoding, compression, quoting, quotechar, line_terminator, chunksize, tupleize_cols, date_format, doublequote, escapechar, decimal)\u001b[0m\n\u001b[0;32m   1522\u001b[0m                                      \u001b[0mdoublequote\u001b[0m\u001b[1;33m=\u001b[0m\u001b[0mdoublequote\u001b[0m\u001b[1;33m,\u001b[0m\u001b[1;33m\u001b[0m\u001b[0m\n\u001b[0;32m   1523\u001b[0m                                      escapechar=escapechar, decimal=decimal)\n\u001b[1;32m-> 1524\u001b[1;33m         \u001b[0mformatter\u001b[0m\u001b[1;33m.\u001b[0m\u001b[0msave\u001b[0m\u001b[1;33m(\u001b[0m\u001b[1;33m)\u001b[0m\u001b[1;33m\u001b[0m\u001b[0m\n\u001b[0m\u001b[0;32m   1525\u001b[0m \u001b[1;33m\u001b[0m\u001b[0m\n\u001b[0;32m   1526\u001b[0m         \u001b[1;32mif\u001b[0m \u001b[0mpath_or_buf\u001b[0m \u001b[1;32mis\u001b[0m \u001b[1;32mNone\u001b[0m\u001b[1;33m:\u001b[0m\u001b[1;33m\u001b[0m\u001b[0m\n",
      "\u001b[1;32mC:\\ProgramData\\Anaconda3\\lib\\site-packages\\pandas\\io\\formats\\format.py\u001b[0m in \u001b[0;36msave\u001b[1;34m(self)\u001b[0m\n\u001b[0;32m   1635\u001b[0m             f, handles = _get_handle(self.path_or_buf, self.mode,\n\u001b[0;32m   1636\u001b[0m                                      \u001b[0mencoding\u001b[0m\u001b[1;33m=\u001b[0m\u001b[0mencoding\u001b[0m\u001b[1;33m,\u001b[0m\u001b[1;33m\u001b[0m\u001b[0m\n\u001b[1;32m-> 1637\u001b[1;33m                                      compression=self.compression)\n\u001b[0m\u001b[0;32m   1638\u001b[0m             \u001b[0mclose\u001b[0m \u001b[1;33m=\u001b[0m \u001b[1;32mTrue\u001b[0m\u001b[1;33m\u001b[0m\u001b[0m\n\u001b[0;32m   1639\u001b[0m \u001b[1;33m\u001b[0m\u001b[0m\n",
      "\u001b[1;32mC:\\ProgramData\\Anaconda3\\lib\\site-packages\\pandas\\io\\common.py\u001b[0m in \u001b[0;36m_get_handle\u001b[1;34m(path_or_buf, mode, encoding, compression, memory_map, is_text)\u001b[0m\n\u001b[0;32m    388\u001b[0m         \u001b[1;32melif\u001b[0m \u001b[0mencoding\u001b[0m\u001b[1;33m:\u001b[0m\u001b[1;33m\u001b[0m\u001b[0m\n\u001b[0;32m    389\u001b[0m             \u001b[1;31m# Python 3 and encoding\u001b[0m\u001b[1;33m\u001b[0m\u001b[1;33m\u001b[0m\u001b[0m\n\u001b[1;32m--> 390\u001b[1;33m             \u001b[0mf\u001b[0m \u001b[1;33m=\u001b[0m \u001b[0mopen\u001b[0m\u001b[1;33m(\u001b[0m\u001b[0mpath_or_buf\u001b[0m\u001b[1;33m,\u001b[0m \u001b[0mmode\u001b[0m\u001b[1;33m,\u001b[0m \u001b[0mencoding\u001b[0m\u001b[1;33m=\u001b[0m\u001b[0mencoding\u001b[0m\u001b[1;33m)\u001b[0m\u001b[1;33m\u001b[0m\u001b[0m\n\u001b[0m\u001b[0;32m    391\u001b[0m         \u001b[1;32melif\u001b[0m \u001b[0mis_text\u001b[0m\u001b[1;33m:\u001b[0m\u001b[1;33m\u001b[0m\u001b[0m\n\u001b[0;32m    392\u001b[0m             \u001b[1;31m# Python 3 and no explicit encoding\u001b[0m\u001b[1;33m\u001b[0m\u001b[1;33m\u001b[0m\u001b[0m\n",
      "\u001b[1;31mFileNotFoundError\u001b[0m: [Errno 2] No such file or directory: 'C:\\\\Projects\\\\180021-CFB\\\\CS_FM_Tool\\\\..\\\\output\\\\vmt_by_neighborhood_by_purpose.csv'"
     ]
    }
   ],
   "source": [
    "fm = cs_fm_tool.CS_FM_Tool(config, r'param\\baseline.yaml',\n",
    "                           r'param\\perf_meas_nosm.yaml')\n",
    "fm.load_inputs()\n",
    "fm.setup()\n",
    "fm.run()\n",
    "fm.post_process()\n",
    "fm.archive()"
   ]
  }
 ],
 "metadata": {
  "kernelspec": {
   "display_name": "Python 3",
   "language": "python",
   "name": "python3"
  },
  "toc": {
   "base_numbering": 1,
   "nav_menu": {},
   "number_sections": true,
   "sideBar": true,
   "skip_h1_title": false,
   "title_cell": "Table of Contents",
   "title_sidebar": "Contents",
   "toc_cell": false,
   "toc_position": {},
   "toc_section_display": true,
   "toc_window_display": false
  }
 },
 "nbformat": 4,
 "nbformat_minor": 2
}
