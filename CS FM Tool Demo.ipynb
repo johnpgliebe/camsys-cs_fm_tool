{
 "cells": [
  {
   "cell_type": "code",
   "execution_count": 4,
   "metadata": {},
   "outputs": [],
   "source": [
    "import cs_fm_tool\n",
    "import config"
   ]
  },
  {
   "cell_type": "code",
   "execution_count": 5,
   "metadata": {
    "scrolled": true
   },
   "outputs": [
    {
     "name": "stdout",
     "output_type": "stream",
     "text": [
      "✓ TAZ / land use / parking / zonal variables read. Time elapsed: 0.10 seconds\n",
      "✓ skims read. Time elapsed: 22.50 seconds\n",
      "✓ trip table read. Time elapsed: 31.14 seconds\n",
      "✓ zonal variable tables generated. Time elapsed: 31.75 seconds\n"
     ]
    }
   ],
   "source": [
    "fm = cs_fm_tool.CS_FM_Tool(config, r'param\\baseline.yaml',\n",
    "                           r'param\\perf_meas.yaml')\n",
    "fm.load_inputs()\n",
    "fm.setup()"
   ]
  },
  {
   "cell_type": "code",
   "execution_count": 7,
   "metadata": {},
   "outputs": [
    {
     "name": "stdout",
     "output_type": "stream",
     "text": [
      "Running for all purposes...\n",
      "Mode choice for HBW started.\n",
      "✓ Parameter table for HBW generated. Time elapsed: 43.30 seconds\n",
      "✓ Trips for 0_PK calculated. Time elapsed: 61.80 seconds\n",
      "✓ Trips for 1_PK calculated. Time elapsed: 85.69 seconds\n",
      "✓ Trips for 0_OP calculated. Time elapsed: 112.40 seconds\n",
      "✓ Trips for 1_OP calculated. Time elapsed: 139.03 seconds\n",
      "Mode choice for HBO started.\n",
      "✓ Parameter table for HBO generated. Time elapsed: 139.99 seconds\n",
      "✓ Trips for 0_PK calculated. Time elapsed: 152.87 seconds\n",
      "✓ Trips for 1_PK calculated. Time elapsed: 166.98 seconds\n",
      "✓ Trips for 0_OP calculated. Time elapsed: 182.93 seconds\n",
      "✓ Trips for 1_OP calculated. Time elapsed: 196.09 seconds\n",
      "Mode choice for NHB started.\n",
      "✓ Parameter table for NHB generated. Time elapsed: 196.84 seconds\n",
      "✓ Trips for 0_PK calculated. Time elapsed: 212.28 seconds\n",
      "✓ Trips for 1_PK calculated. Time elapsed: 226.93 seconds\n",
      "✓ Trips for 0_OP calculated. Time elapsed: 247.50 seconds\n",
      "✓ Trips for 1_OP calculated. Time elapsed: 264.95 seconds\n",
      "Mode choice for HBSc1 started.\n",
      "✓ Parameter table for HBSc1 generated. Time elapsed: 265.83 seconds\n",
      "✓ Trips for 0_PK calculated. Time elapsed: 276.00 seconds\n",
      "✓ Trips for 1_PK calculated. Time elapsed: 284.59 seconds\n",
      "✓ Trips for 0_OP calculated. Time elapsed: 294.66 seconds\n",
      "✓ Trips for 1_OP calculated. Time elapsed: 303.04 seconds\n",
      "Mode choice for HBSc2 started.\n",
      "✓ Parameter table for HBSc2 generated. Time elapsed: 303.73 seconds\n",
      "✓ Trips for 0_PK calculated. Time elapsed: 312.86 seconds\n",
      "✓ Trips for 1_PK calculated. Time elapsed: 321.01 seconds\n",
      "✓ Trips for 0_OP calculated. Time elapsed: 330.99 seconds\n",
      "✓ Trips for 1_OP calculated. Time elapsed: 339.07 seconds\n",
      "Mode choice for HBSc3 started.\n",
      "✓ Parameter table for HBSc3 generated. Time elapsed: 339.76 seconds\n",
      "✓ Trips for 0_PK calculated. Time elapsed: 350.42 seconds\n",
      "✓ Trips for 1_PK calculated. Time elapsed: 361.22 seconds\n",
      "✓ Trips for 0_OP calculated. Time elapsed: 375.13 seconds\n",
      "✓ Trips for 1_OP calculated. Time elapsed: 386.92 seconds\n"
     ]
    }
   ],
   "source": [
    "fm.run()"
   ]
  },
  {
   "cell_type": "code",
   "execution_count": 8,
   "metadata": {},
   "outputs": [
    {
     "name": "stdout",
     "output_type": "stream",
     "text": [
      "Running summaries for neighborhood vmt\n",
      "Running summaries for neighborhood pmt\n",
      "Running summaries for neighborhood active pmt\n",
      "Running summaries for neighborhood trips\n",
      "Running summaries for neighborhood mode share\n",
      "Running summaries for subregion summary\n",
      "Running summaries for transit ridership\n",
      "Running summaries for zonal trips by mode\n",
      "Running summaries for zonal trips by region - all\n",
      "Running summaries for zonal trips by mode - Boston\n",
      "Running summaries for zonal trips by mode - cordon\n"
     ]
    }
   ],
   "source": [
    "fm.post_process()"
   ]
  },
  {
   "cell_type": "code",
   "execution_count": 9,
   "metadata": {},
   "outputs": [],
   "source": [
    "fm.archive()"
   ]
  }
 ],
 "metadata": {
  "kernelspec": {
   "display_name": "Python 3",
   "language": "python",
   "name": "python3"
  },
  "language_info": {
   "codemirror_mode": {
    "name": "ipython",
    "version": 3
   },
   "file_extension": ".py",
   "mimetype": "text/x-python",
   "name": "python",
   "nbconvert_exporter": "python",
   "pygments_lexer": "ipython3",
   "version": "3.7.3"
  },
  "toc": {
   "base_numbering": 1,
   "nav_menu": {},
   "number_sections": true,
   "sideBar": true,
   "skip_h1_title": false,
   "title_cell": "Table of Contents",
   "title_sidebar": "Contents",
   "toc_cell": false,
   "toc_position": {},
   "toc_section_display": true,
   "toc_window_display": false
  }
 },
 "nbformat": 4,
 "nbformat_minor": 2
}
